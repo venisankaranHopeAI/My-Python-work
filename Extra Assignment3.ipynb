{
 "cells": [
  {
   "cell_type": "code",
   "execution_count": null,
   "id": "854ecf0f-0fdd-40a9-9163-0731003897dd",
   "metadata": {},
   "outputs": [],
   "source": [
    "#Print \"Correct\" if the value = 10"
   ]
  },
  {
   "cell_type": "code",
   "execution_count": 3,
   "id": "6a71d1cc-4f77-4eb1-a6ab-f510eff07529",
   "metadata": {},
   "outputs": [
    {
     "name": "stdin",
     "output_type": "stream",
     "text": [
      "Enter the number: 10\n"
     ]
    },
    {
     "name": "stdout",
     "output_type": "stream",
     "text": [
      "The entered value is correct\n"
     ]
    }
   ],
   "source": [
    "number=int(input(\"Enter the number:\"))\n",
    "if(number==10):\n",
    "    print(\"The entered value is correct\")"
   ]
  },
  {
   "cell_type": "code",
   "execution_count": null,
   "id": "207b5941-e0d9-4550-bad5-35d0ac8bd8f3",
   "metadata": {},
   "outputs": [],
   "source": [
    "#Verify the password using if and else statement"
   ]
  },
  {
   "cell_type": "code",
   "execution_count": 5,
   "id": "d52c8000-dd04-4b9d-9f2f-99c8a6910d03",
   "metadata": {},
   "outputs": [
    {
     "name": "stdin",
     "output_type": "stream",
     "text": [
      "Enter the ppassword: hope2123\n"
     ]
    },
    {
     "name": "stdout",
     "output_type": "stream",
     "text": [
      "The password is invalid\n"
     ]
    }
   ],
   "source": [
    "password=input(\"Enter the ppassword:\")\n",
    "if(password=='Hope@123'):\n",
    "    print(\"The password is valid\")\n",
    "else:\n",
    "    print(\"The password is invalid\")"
   ]
  },
  {
   "cell_type": "code",
   "execution_count": null,
   "id": "3e56bb48-d8b6-417a-91b0-290035dbcb3e",
   "metadata": {},
   "outputs": [],
   "source": [
    "#Categorize the people by their age"
   ]
  },
  {
   "cell_type": "code",
   "execution_count": 7,
   "id": "7dc9921e-0b0f-486b-b8ac-7e491777c3b9",
   "metadata": {},
   "outputs": [
    {
     "name": "stdout",
     "output_type": "stream",
     "text": [
      "The person is an middle-aged Adult\n",
      "The person is a senior citizen\n",
      "The person is a minor-children\n",
      "The person is an middle-aged Adult\n",
      "The person is an middle-aged Adult\n",
      "The person is a minor-children\n",
      "The person is a senior citizen\n"
     ]
    }
   ],
   "source": [
    "list=[23,85,12,18,59,17,60]\n",
    "for age in list:\n",
    "    if(age<18):\n",
    "        print(\"The person is a minor-children\")\n",
    "    elif(age<60):\n",
    "        print(\"The person is an middle-aged Adult\")\n",
    "    elif(age>=60):\n",
    "        print(\"The person is a senior citizen\")"
   ]
  },
  {
   "cell_type": "code",
   "execution_count": null,
   "id": "483c92a7-962f-4c63-ab0f-9dc31a4eb872",
   "metadata": {},
   "outputs": [],
   "source": [
    "#Finding whether the entered number is positive or not"
   ]
  },
  {
   "cell_type": "code",
   "execution_count": 13,
   "id": "02e3a0aa-e44c-49d9-89ed-c65aca2ecd81",
   "metadata": {},
   "outputs": [
    {
     "name": "stdin",
     "output_type": "stream",
     "text": [
      "Enter a number: -101\n"
     ]
    },
    {
     "name": "stdout",
     "output_type": "stream",
     "text": [
      "The entered number is negative\n"
     ]
    }
   ],
   "source": [
    "num=int(input(\"Enter a number:\"))\n",
    "if(num<0):\n",
    "    print(\"The entered number is negative\")\n",
    "else:\n",
    "    print(\"The entered number is positive\")"
   ]
  },
  {
   "cell_type": "code",
   "execution_count": null,
   "id": "b8039434-5022-4854-b507-f3b21ca5ff45",
   "metadata": {},
   "outputs": [],
   "source": [
    "#Verify whether the entered number is divisible by 5"
   ]
  },
  {
   "cell_type": "code",
   "execution_count": 15,
   "id": "dc8631ba-4061-4218-b471-45b7773f8d86",
   "metadata": {},
   "outputs": [
    {
     "name": "stdin",
     "output_type": "stream",
     "text": [
      "Enter a number: 23\n"
     ]
    },
    {
     "name": "stdout",
     "output_type": "stream",
     "text": [
      "The entered number is not divisible by 5\n"
     ]
    }
   ],
   "source": [
    "num=int(input(\"Enter a number:\"))\n",
    "if(num%5==0):\n",
    "    print(\"The entered number is divisible by 5\")\n",
    "else:\n",
    "    print(\"The entered number is not divisible by 5\")"
   ]
  },
  {
   "cell_type": "code",
   "execution_count": null,
   "id": "7da3663f-b675-4088-b531-eb72fe82e6c4",
   "metadata": {},
   "outputs": [],
   "source": []
  },
  {
   "cell_type": "code",
   "execution_count": null,
   "id": "2ed8043b-0e64-4e9f-9146-55d8f60fede3",
   "metadata": {},
   "outputs": [],
   "source": []
  },
  {
   "cell_type": "code",
   "execution_count": null,
   "id": "384d61a4-9086-40cc-b535-b0924985e2bb",
   "metadata": {},
   "outputs": [],
   "source": []
  },
  {
   "cell_type": "code",
   "execution_count": null,
   "id": "142691fd-de55-4022-9ae9-3d71f82aad65",
   "metadata": {},
   "outputs": [],
   "source": []
  },
  {
   "cell_type": "code",
   "execution_count": null,
   "id": "7e8874ae-def1-403f-812b-0fd4e142de76",
   "metadata": {},
   "outputs": [],
   "source": []
  },
  {
   "cell_type": "code",
   "execution_count": null,
   "id": "71a2f4f9-38d7-4b18-94fc-619a49444e82",
   "metadata": {},
   "outputs": [],
   "source": []
  },
  {
   "cell_type": "code",
   "execution_count": null,
   "id": "7ed79d6a-d479-46d5-828f-0f28c8b81b1c",
   "metadata": {},
   "outputs": [],
   "source": []
  },
  {
   "cell_type": "code",
   "execution_count": null,
   "id": "accb677c-a6fe-47ed-ad1e-0145daf7dd9d",
   "metadata": {},
   "outputs": [],
   "source": []
  },
  {
   "cell_type": "code",
   "execution_count": null,
   "id": "c1d5ae21-d38f-4627-b829-836d2cf4300e",
   "metadata": {},
   "outputs": [],
   "source": []
  },
  {
   "cell_type": "code",
   "execution_count": null,
   "id": "ea55eb05-6f46-4d59-b6f9-c8242fec912e",
   "metadata": {},
   "outputs": [],
   "source": []
  },
  {
   "cell_type": "code",
   "execution_count": null,
   "id": "a0650175-81f3-43f4-aae4-72e3d63c9c46",
   "metadata": {},
   "outputs": [],
   "source": []
  }
 ],
 "metadata": {
  "kernelspec": {
   "display_name": "Python 3 (ipykernel)",
   "language": "python",
   "name": "python3"
  },
  "language_info": {
   "codemirror_mode": {
    "name": "ipython",
    "version": 3
   },
   "file_extension": ".py",
   "mimetype": "text/x-python",
   "name": "python",
   "nbconvert_exporter": "python",
   "pygments_lexer": "ipython3",
   "version": "3.11.7"
  }
 },
 "nbformat": 4,
 "nbformat_minor": 5
}
