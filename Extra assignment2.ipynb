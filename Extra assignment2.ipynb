{
 "cells": [
  {
   "cell_type": "code",
   "execution_count": null,
   "id": "6436f767-a3a6-48fd-95f2-7d7b27a153be",
   "metadata": {},
   "outputs": [],
   "source": [
    "#print number 0 to 20 using range function - vertical"
   ]
  },
  {
   "cell_type": "code",
   "execution_count": 3,
   "id": "507c016f-2488-4662-8d41-9cc4f99a34d9",
   "metadata": {},
   "outputs": [
    {
     "name": "stdout",
     "output_type": "stream",
     "text": [
      "0\n",
      "1\n",
      "2\n",
      "3\n",
      "4\n",
      "5\n",
      "6\n",
      "7\n",
      "8\n",
      "9\n",
      "10\n",
      "11\n",
      "12\n",
      "13\n",
      "14\n",
      "15\n",
      "16\n",
      "17\n",
      "18\n",
      "19\n",
      "20\n"
     ]
    }
   ],
   "source": [
    "for num in range(0,21):\n",
    "    print(num)"
   ]
  },
  {
   "cell_type": "code",
   "execution_count": null,
   "id": "e517dfe0-347e-45a8-aa51-307537b3e841",
   "metadata": {},
   "outputs": [],
   "source": [
    "#print number 10 to 20 using range - horizontal"
   ]
  },
  {
   "cell_type": "code",
   "execution_count": 8,
   "id": "4e7bd675-571a-4d2f-b412-0c41c936aacc",
   "metadata": {},
   "outputs": [
    {
     "name": "stdout",
     "output_type": "stream",
     "text": [
      "10 11 12 13 14 15 16 17 18 19 "
     ]
    }
   ],
   "source": [
    "for num1 in range(10,20):\n",
    "    print(num1,end=' ')"
   ]
  },
  {
   "cell_type": "code",
   "execution_count": null,
   "id": "d57ce353-2725-4c5c-9d72-92ddf843db61",
   "metadata": {},
   "outputs": [],
   "source": [
    "#print the number of items in a list using len() function"
   ]
  },
  {
   "cell_type": "code",
   "execution_count": 11,
   "id": "9fb32f5d-ab75-4c67-99d7-e694d1116e07",
   "metadata": {},
   "outputs": [
    {
     "name": "stdout",
     "output_type": "stream",
     "text": [
      "Number of items in the list: 10\n"
     ]
    }
   ],
   "source": [
    "lists=[1,5,2,3,4,56,90,2390,1209,38]\n",
    "print(\"Number of items in the list:\",len(lists))"
   ]
  },
  {
   "cell_type": "code",
   "execution_count": null,
   "id": "a4dfbd8a-424e-49fb-abd9-98a7fb9ce5ca",
   "metadata": {},
   "outputs": [],
   "source": [
    "#print \"Artificial Intelligence\" in horizontal using list[]"
   ]
  },
  {
   "cell_type": "code",
   "execution_count": 15,
   "id": "ed4ee31f-22aa-490c-9c56-9940b73f95d5",
   "metadata": {},
   "outputs": [
    {
     "name": "stdout",
     "output_type": "stream",
     "text": [
      "A\n",
      "r\n",
      "t\n",
      "i\n",
      "f\n",
      "i\n",
      "c\n",
      "i\n",
      "a\n",
      "l\n",
      " \n",
      "I\n",
      "n\n",
      "t\n",
      "e\n",
      "l\n",
      "l\n",
      "i\n",
      "g\n",
      "e\n",
      "n\n",
      "c\n",
      "e\n"
     ]
    }
   ],
   "source": [
    "list=['A','r','t','i','f','i','c','i','a','l',' ','I','n','t','e','l','l','i','g','e','n','c','e']\n",
    "for val in list:\n",
    "    print(val)"
   ]
  },
  {
   "cell_type": "code",
   "execution_count": null,
   "id": "5eef9979-2092-41cd-a7d8-d219f0727f78",
   "metadata": {},
   "outputs": [],
   "source": [
    "#Print a text or string using input function"
   ]
  },
  {
   "cell_type": "code",
   "execution_count": 17,
   "id": "14f70e90-69ac-4dbd-b281-9537fcf001ad",
   "metadata": {},
   "outputs": [
    {
     "name": "stdin",
     "output_type": "stream",
     "text": [
      "Enter a string: Artificial Intelligence\n"
     ]
    },
    {
     "name": "stdout",
     "output_type": "stream",
     "text": [
      "A\n",
      "r\n",
      "t\n",
      "i\n",
      "f\n",
      "i\n",
      "c\n",
      "i\n",
      "a\n",
      "l\n",
      " \n",
      "I\n",
      "n\n",
      "t\n",
      "e\n",
      "l\n",
      "l\n",
      "i\n",
      "g\n",
      "e\n",
      "n\n",
      "c\n",
      "e\n"
     ]
    }
   ],
   "source": [
    "strname=input(\"Enter a string:\")\n",
    "for val in strname:\n",
    "    print(val)"
   ]
  },
  {
   "cell_type": "code",
   "execution_count": 18,
   "id": "8a04ad7e-3884-4142-9979-8a8a79d4942a",
   "metadata": {},
   "outputs": [
    {
     "name": "stdin",
     "output_type": "stream",
     "text": [
      "Enter your name: Krishna\n",
      "Enter your age: 37\n",
      "Enter your profession: Engineer\n"
     ]
    }
   ],
   "source": [
    "name=input(\"Enter your name:\")\n",
    "age=int(input(\"Enter your age:\"))\n",
    "prof=input(\"Enter your profession:\")"
   ]
  },
  {
   "cell_type": "code",
   "execution_count": null,
   "id": "41e61b1a-65b0-499a-93ba-f0f1ee5f367c",
   "metadata": {},
   "outputs": [],
   "source": [
    "#Print mixed datatypes using Tuples in python"
   ]
  },
  {
   "cell_type": "code",
   "execution_count": 24,
   "id": "dbedba29-5dd7-425c-a7ff-a63748266b42",
   "metadata": {},
   "outputs": [
    {
     "name": "stdout",
     "output_type": "stream",
     "text": [
      "('1', 'Welcome', '2', 'Hope')\n"
     ]
    }
   ],
   "source": [
    "tuple1=('1','Welcome','2','Hope')\n",
    "print(tuple1)"
   ]
  },
  {
   "cell_type": "code",
   "execution_count": null,
   "id": "052c6d1e-462e-4520-a484-8e3bf926fb77",
   "metadata": {},
   "outputs": [],
   "source": [
    "#Nested tuple"
   ]
  },
  {
   "cell_type": "code",
   "execution_count": 27,
   "id": "a6ee7e77-04b3-40a0-8858-64e242c73ae5",
   "metadata": {},
   "outputs": [
    {
     "name": "stdout",
     "output_type": "stream",
     "text": [
      "('1,2,3', ('nesting', 'tuples'))\n"
     ]
    }
   ],
   "source": [
    "tuple1=('1,2,3')\n",
    "tuple2=('nesting','tuples')\n",
    "tuple3=(tuple1,tuple2)\n",
    "print(tuple3)"
   ]
  },
  {
   "cell_type": "code",
   "execution_count": null,
   "id": "b7e03f9e-bd44-4bdb-8ffb-24c9fb4ba637",
   "metadata": {},
   "outputs": [],
   "source": [
    "#Printing odd and even numbers in a list"
   ]
  },
  {
   "cell_type": "code",
   "execution_count": 31,
   "id": "4d5ecaad-d2eb-475c-a9e0-a04263ff2664",
   "metadata": {},
   "outputs": [
    {
     "name": "stdout",
     "output_type": "stream",
     "text": [
      "25 is an odd number\n",
      "12 is an even number\n",
      "45 is an odd number\n",
      "27 is an odd number\n",
      "28 is an even number\n",
      "91 is an odd number\n",
      "80 is an even number\n",
      "103 is an odd number\n",
      "84 is an even number\n"
     ]
    }
   ],
   "source": [
    "list=[25,12,45,27,28,91,80,103,84]\n",
    "for int in list:\n",
    "    if(int%2==0):\n",
    "        print(int,\"is an even number\")\n",
    "    else:\n",
    "        print(int,\"is an odd number\")"
   ]
  },
  {
   "cell_type": "code",
   "execution_count": null,
   "id": "7e679d0f-0382-4a21-b6f8-5e11c858bed5",
   "metadata": {},
   "outputs": [],
   "source": []
  },
  {
   "cell_type": "code",
   "execution_count": null,
   "id": "35afc9fc-c288-48ae-8f4b-56347a8bb5c1",
   "metadata": {},
   "outputs": [],
   "source": []
  },
  {
   "cell_type": "code",
   "execution_count": null,
   "id": "b3ab5218-e35f-44c9-9a76-49647d11feb7",
   "metadata": {},
   "outputs": [],
   "source": []
  },
  {
   "cell_type": "code",
   "execution_count": null,
   "id": "8ef750fb-f252-445e-9d87-fa3781d09103",
   "metadata": {},
   "outputs": [],
   "source": []
  },
  {
   "cell_type": "code",
   "execution_count": null,
   "id": "f07d9eac-9110-451d-a5d0-7612c7edd682",
   "metadata": {},
   "outputs": [],
   "source": []
  },
  {
   "cell_type": "code",
   "execution_count": null,
   "id": "765cfc66-0ddb-44db-8aab-d1f3e1e88689",
   "metadata": {},
   "outputs": [],
   "source": []
  },
  {
   "cell_type": "code",
   "execution_count": null,
   "id": "70d4e428-3975-4738-a5f7-6591ca23907e",
   "metadata": {},
   "outputs": [],
   "source": []
  },
  {
   "cell_type": "code",
   "execution_count": null,
   "id": "d75e6653-c099-4ed1-a7e9-2b3bd817fc1f",
   "metadata": {},
   "outputs": [],
   "source": []
  },
  {
   "cell_type": "code",
   "execution_count": null,
   "id": "576c7451-6d6f-4b99-964f-91aa0a01c0cd",
   "metadata": {},
   "outputs": [],
   "source": []
  },
  {
   "cell_type": "code",
   "execution_count": null,
   "id": "0a9dc7a1-481d-48b5-afc9-b3b3ff8c7cd4",
   "metadata": {},
   "outputs": [],
   "source": []
  },
  {
   "cell_type": "code",
   "execution_count": null,
   "id": "e0651654-4a41-4f17-9b92-81b27ce03466",
   "metadata": {},
   "outputs": [],
   "source": []
  },
  {
   "cell_type": "code",
   "execution_count": null,
   "id": "97c127b8-aaa1-419b-a8f2-22f699ee993f",
   "metadata": {},
   "outputs": [],
   "source": []
  },
  {
   "cell_type": "code",
   "execution_count": null,
   "id": "239873eb-cb01-4cf9-9be6-b7387d7292dc",
   "metadata": {},
   "outputs": [],
   "source": []
  }
 ],
 "metadata": {
  "kernelspec": {
   "display_name": "Python 3 (ipykernel)",
   "language": "python",
   "name": "python3"
  },
  "language_info": {
   "codemirror_mode": {
    "name": "ipython",
    "version": 3
   },
   "file_extension": ".py",
   "mimetype": "text/x-python",
   "name": "python",
   "nbconvert_exporter": "python",
   "pygments_lexer": "ipython3",
   "version": "3.11.7"
  }
 },
 "nbformat": 4,
 "nbformat_minor": 5
}
