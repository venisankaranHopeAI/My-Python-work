{
 "cells": [
  {
   "cell_type": "code",
   "execution_count": null,
   "id": "a9a778cc-fdf6-41ca-9266-216b504506b0",
   "metadata": {},
   "outputs": [],
   "source": [
    "#Create a function and list out the items in the list"
   ]
  },
  {
   "cell_type": "code",
   "execution_count": 7,
   "id": "2b94752b-4dab-4e69-8066-88d98be20a69",
   "metadata": {},
   "outputs": [],
   "source": [
    "def subfieldsinAI():\n",
    "    lists=[\"Sub-fields in AI are:\",\"Machine learning\",\"Neural netwroks\",\"Vision\",\"Robotics\",\"Speech processing\",\"Natural langauage processing\"]\n",
    "    for temp in lists:\n",
    "        print(temp)"
   ]
  },
  {
   "cell_type": "code",
   "execution_count": 8,
   "id": "8bf2ba05-8a11-483a-a83e-53afea0fa69e",
   "metadata": {},
   "outputs": [
    {
     "name": "stdout",
     "output_type": "stream",
     "text": [
      "Sub-fields in AI are:\n",
      "Machine learning\n",
      "Neural netwroks\n",
      "Vision\n",
      "Robotics\n",
      "Speech processing\n",
      "Natural langauage processing\n"
     ]
    }
   ],
   "source": [
    "subfieldsinAI()"
   ]
  },
  {
   "cell_type": "code",
   "execution_count": null,
   "id": "c3d828fc-8a1a-41cb-ab88-6b6ac5dddcf5",
   "metadata": {},
   "outputs": [],
   "source": [
    "#Create a function to check whether the number is odd or even without return"
   ]
  },
  {
   "cell_type": "code",
   "execution_count": 9,
   "id": "53e5aa34-9a9f-4131-a4f6-44fb9fa4aad2",
   "metadata": {},
   "outputs": [],
   "source": [
    "def OddEven():\n",
    "    num=int(input(\"Enter the number:\"))\n",
    "    if(num%2==0):\n",
    "        print(\"Even number\")\n",
    "    else:\n",
    "        print(\"Odd number\")"
   ]
  },
  {
   "cell_type": "code",
   "execution_count": 10,
   "id": "36997d62-30df-4a77-a000-810f160efafa",
   "metadata": {},
   "outputs": [
    {
     "name": "stdin",
     "output_type": "stream",
     "text": [
      "Enter the number: 89\n"
     ]
    },
    {
     "name": "stdout",
     "output_type": "stream",
     "text": [
      "Odd number\n"
     ]
    }
   ],
   "source": [
    "OddEven()"
   ]
  },
  {
   "cell_type": "code",
   "execution_count": 31,
   "id": "82d9de1f-88bb-4cdc-bafe-cfda8f375b6a",
   "metadata": {},
   "outputs": [],
   "source": [
    "#With return"
   ]
  },
  {
   "cell_type": "code",
   "execution_count": 11,
   "id": "f3bbf407-98d9-4813-b01b-67b4ef8ddac6",
   "metadata": {},
   "outputs": [],
   "source": [
    "def OddEven1():\n",
    "    num=int(input(\"Enter the number:\"))\n",
    "    if(num%2==0):\n",
    "        print(\"Even number\")\n",
    "        message=\"Even number\"\n",
    "    else:\n",
    "        print(\"Odd number\")\n",
    "        message=\"Odd number\"\n",
    "        return message"
   ]
  },
  {
   "cell_type": "code",
   "execution_count": 12,
   "id": "e7fc0740-5ca0-4030-92da-557a8882be9a",
   "metadata": {},
   "outputs": [
    {
     "name": "stdin",
     "output_type": "stream",
     "text": [
      "Enter the number: 1090\n"
     ]
    },
    {
     "name": "stdout",
     "output_type": "stream",
     "text": [
      "Even number\n"
     ]
    }
   ],
   "source": [
    "OddEven1()"
   ]
  },
  {
   "cell_type": "code",
   "execution_count": null,
   "id": "14337723-258c-4c0d-871e-2c78509cf141",
   "metadata": {},
   "outputs": [],
   "source": [
    "#Marriage age eligibility check for both male(>21) and female(>18) (It couldn't return the message for 'male' alone,pls check and let me know)"
   ]
  },
  {
   "cell_type": "code",
   "execution_count": 19,
   "id": "067f5080-00c1-4791-ad8b-9fb08d81ed84",
   "metadata": {},
   "outputs": [],
   "source": [
    "def eligibility():\n",
    "    gender=input(\"Enter the gender:\")\n",
    "    if(gender==\"male\"):\n",
    "        age=int(input(\"Enter the boys age:\"))\n",
    "        if(age<21):\n",
    "            print(\"The boy is Not eligible\")\n",
    "            message=\"Not eligible\"\n",
    "        else:\n",
    "            print(\"The boy is Eligible\")\n",
    "            message=\"Eligible\"\n",
    "            return message\n",
    "    if(gender==\"female\"):\n",
    "        age=int(input(\"Enter the girls age:\"))\n",
    "        if(age<18):\n",
    "            print(\"The girl Not eligible\")\n",
    "            message=\"Not eligible\"\n",
    "        else:\n",
    "            print(\"The girl is Eligible\")\n",
    "            message=\"Eligible\"\n",
    "            return message"
   ]
  },
  {
   "cell_type": "code",
   "execution_count": 28,
   "id": "be44f9d5-d5de-44ca-be3a-8de3235c8fad",
   "metadata": {},
   "outputs": [
    {
     "name": "stdin",
     "output_type": "stream",
     "text": [
      "Enter the gender: male\n",
      "Enter the boys age: 18\n"
     ]
    },
    {
     "name": "stdout",
     "output_type": "stream",
     "text": [
      "The boy is Not eligible\n"
     ]
    }
   ],
   "source": [
    "eligibility()"
   ]
  },
  {
   "cell_type": "code",
   "execution_count": null,
   "id": "44dd6ca6-50a6-45a8-82a1-1493cd64963c",
   "metadata": {},
   "outputs": [],
   "source": [
    "#Calculate the percentage of 10th mark"
   ]
  },
  {
   "cell_type": "code",
   "execution_count": 37,
   "id": "11c09284-050b-468d-afab-f3de93272c80",
   "metadata": {},
   "outputs": [],
   "source": [
    "def percentage():\n",
    "    sub1=int(input(\"Enter the mark for sub1:\"))\n",
    "    sub2=int(input(\"Enter the mark for sub2:\"))\n",
    "    sub3=int(input(\"Enter the mark for sub3:\"))\n",
    "    sub4=int(input(\"Enter the mark for sub4:\"))\n",
    "    sub5=int(input(\"Enter the mark for sub5:\"))\n",
    "    total=(sub1+sub2+sub3+sub4+sub5)\n",
    "    percent=(total/5)\n",
    "    print(\"The percentage:\",percent)\n",
    "    message=\"Percentage\"\n",
    "    return message"
   ]
  },
  {
   "cell_type": "code",
   "execution_count": 38,
   "id": "b19eb242-c896-4480-b170-84c88c17db87",
   "metadata": {},
   "outputs": [
    {
     "name": "stdin",
     "output_type": "stream",
     "text": [
      "Enter the mark for sub1: 90\n",
      "Enter the mark for sub2: 92\n",
      "Enter the mark for sub3: 94\n",
      "Enter the mark for sub4: 95\n",
      "Enter the mark for sub5: 96\n"
     ]
    },
    {
     "name": "stdout",
     "output_type": "stream",
     "text": [
      "The percentage: 93.4\n"
     ]
    },
    {
     "data": {
      "text/plain": [
       "'Percentage'"
      ]
     },
     "execution_count": 38,
     "metadata": {},
     "output_type": "execute_result"
    }
   ],
   "source": [
    "percentage()"
   ]
  },
  {
   "cell_type": "code",
   "execution_count": null,
   "id": "0f63efac-5993-4d49-b001-553d6cf0e660",
   "metadata": {},
   "outputs": [],
   "source": [
    "#Print area and perimeter of a triangle"
   ]
  },
  {
   "cell_type": "code",
   "execution_count": 41,
   "id": "65026661-3766-4bd5-bd87-8cfafb5f80a6",
   "metadata": {},
   "outputs": [],
   "source": [
    "def trianglearea():\n",
    "    height=int(input(\"Enter the height:\"))\n",
    "    breadth=int(input(\"Enter the breadth:\"))\n",
    "    area=(height*breadth)/2\n",
    "    print(\"The area is:\",area)\n",
    "    message=\"Area of a triangle\"\n",
    "    return message"
   ]
  },
  {
   "cell_type": "code",
   "execution_count": 43,
   "id": "8d8a4f6b-e69e-4c4d-807f-0065743b7619",
   "metadata": {},
   "outputs": [
    {
     "name": "stdin",
     "output_type": "stream",
     "text": [
      "Enter the height: 32\n",
      "Enter the breadth: 34\n"
     ]
    },
    {
     "name": "stdout",
     "output_type": "stream",
     "text": [
      "The area is: 544.0\n"
     ]
    },
    {
     "data": {
      "text/plain": [
       "'Area of a triangle'"
      ]
     },
     "execution_count": 43,
     "metadata": {},
     "output_type": "execute_result"
    }
   ],
   "source": [
    "trianglearea()"
   ]
  },
  {
   "cell_type": "code",
   "execution_count": 44,
   "id": "73e07c76-f834-4849-a28d-e443c52d9034",
   "metadata": {},
   "outputs": [],
   "source": [
    "def triangleperimeter():\n",
    "    height1=int(input(\"Enter the height1:\"))\n",
    "    height2=int(input(\"Enter the height2:\"))\n",
    "    breadth=int(input(\"Enter the breadth:\"))\n",
    "    perimeter=height1+height2+breadth\n",
    "    print(\"The perimeter is:\",perimeter)\n",
    "    message=\"Perimeter of a triangle\"\n",
    "    return message"
   ]
  },
  {
   "cell_type": "code",
   "execution_count": 45,
   "id": "a73910e8-8b67-4067-81d8-56a89d173994",
   "metadata": {},
   "outputs": [
    {
     "name": "stdin",
     "output_type": "stream",
     "text": [
      "Enter the height1: 52\n",
      "Enter the height2: 78\n",
      "Enter the breadth: 93\n"
     ]
    },
    {
     "name": "stdout",
     "output_type": "stream",
     "text": [
      "The perimeter is: 223\n"
     ]
    },
    {
     "data": {
      "text/plain": [
       "'Perimeter of a triangle'"
      ]
     },
     "execution_count": 45,
     "metadata": {},
     "output_type": "execute_result"
    }
   ],
   "source": [
    "triangleperimeter()"
   ]
  },
  {
   "cell_type": "code",
   "execution_count": null,
   "id": "6f0212a9-6ddd-459e-b2ee-c7890d2e6ed3",
   "metadata": {},
   "outputs": [],
   "source": []
  }
 ],
 "metadata": {
  "kernelspec": {
   "display_name": "Python 3 (ipykernel)",
   "language": "python",
   "name": "python3"
  },
  "language_info": {
   "codemirror_mode": {
    "name": "ipython",
    "version": 3
   },
   "file_extension": ".py",
   "mimetype": "text/x-python",
   "name": "python",
   "nbconvert_exporter": "python",
   "pygments_lexer": "ipython3",
   "version": "3.11.7"
  }
 },
 "nbformat": 4,
 "nbformat_minor": 5
}
