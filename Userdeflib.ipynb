{
 "cells": [
  {
   "cell_type": "code",
   "execution_count": 1,
   "id": "157cb54d-55e6-4f6c-9c86-35500ae25b6c",
   "metadata": {},
   "outputs": [],
   "source": [
    "from classmultfunc import multiplefunccheck"
   ]
  },
  {
   "cell_type": "code",
   "execution_count": 2,
   "id": "3c726073-8a2e-4a92-b4c7-b80ebf26ab5a",
   "metadata": {},
   "outputs": [
    {
     "name": "stdout",
     "output_type": "stream",
     "text": [
      "Sub-fields in AI are:\n",
      "Machine learning\n",
      "Neural netwroks\n",
      "Vision\n",
      "Robotics\n",
      "Speech processing\n",
      "Natural langauage processing\n"
     ]
    }
   ],
   "source": [
    "multiplefunccheck.subfieldsinAI()"
   ]
  },
  {
   "cell_type": "code",
   "execution_count": 3,
   "id": "dd1da662-27e4-496b-8a1c-9e1a9ff31db3",
   "metadata": {},
   "outputs": [
    {
     "name": "stdin",
     "output_type": "stream",
     "text": [
      "Enter the number: 67452\n"
     ]
    },
    {
     "name": "stdout",
     "output_type": "stream",
     "text": [
      "67452 is an Even number\n"
     ]
    },
    {
     "data": {
      "text/plain": [
       "'Even number'"
      ]
     },
     "execution_count": 3,
     "metadata": {},
     "output_type": "execute_result"
    }
   ],
   "source": [
    "multiplefunccheck.OddEven()"
   ]
  },
  {
   "cell_type": "code",
   "execution_count": 4,
   "id": "43fc23a3-db1d-4a61-a16c-b10da38f0edb",
   "metadata": {},
   "outputs": [
    {
     "name": "stdin",
     "output_type": "stream",
     "text": [
      "Enter the gender: male\n",
      "Enter the age: 20\n"
     ]
    },
    {
     "name": "stdout",
     "output_type": "stream",
     "text": [
      "The person is not eligible for marriage\n"
     ]
    },
    {
     "data": {
      "text/plain": [
       "'Not eligible'"
      ]
     },
     "execution_count": 4,
     "metadata": {},
     "output_type": "execute_result"
    }
   ],
   "source": [
    "multiplefunccheck.eligibility()"
   ]
  },
  {
   "cell_type": "code",
   "execution_count": 5,
   "id": "58984385-7294-4c44-970e-5f890614d970",
   "metadata": {},
   "outputs": [
    {
     "name": "stdin",
     "output_type": "stream",
     "text": [
      "Enter the mark for sub1: 89\n",
      "Enter the mark for sub2: 87\n",
      "Enter the mark for sub3: 85\n",
      "Enter the mark for sub4: 93\n",
      "Enter the mark for sub5: 95\n"
     ]
    },
    {
     "name": "stdout",
     "output_type": "stream",
     "text": [
      "The percentage: 89.8\n"
     ]
    },
    {
     "data": {
      "text/plain": [
       "'Percentage'"
      ]
     },
     "execution_count": 5,
     "metadata": {},
     "output_type": "execute_result"
    }
   ],
   "source": [
    "multiplefunccheck.percentage()"
   ]
  },
  {
   "cell_type": "code",
   "execution_count": 6,
   "id": "83e5bb97-a519-4ed7-a2af-8f061333edc2",
   "metadata": {},
   "outputs": [
    {
     "name": "stdin",
     "output_type": "stream",
     "text": [
      "Enter the height1: 5\n",
      "Enter the height2: 6\n",
      "Enter the breadth: 7\n"
     ]
    },
    {
     "name": "stdout",
     "output_type": "stream",
     "text": [
      "The area is: 17.5\n",
      "The perimeter is: 18\n"
     ]
    },
    {
     "data": {
      "text/plain": [
       "'Area and Perimeter of a triangle'"
      ]
     },
     "execution_count": 6,
     "metadata": {},
     "output_type": "execute_result"
    }
   ],
   "source": [
    "multiplefunccheck.triangle()"
   ]
  },
  {
   "cell_type": "code",
   "execution_count": null,
   "id": "fed0d54f-9d42-4be2-aef2-4e8f22633f58",
   "metadata": {},
   "outputs": [],
   "source": []
  },
  {
   "cell_type": "code",
   "execution_count": null,
   "id": "e4375f74-2c5e-45fd-8cb5-98c212e80d5a",
   "metadata": {},
   "outputs": [],
   "source": []
  },
  {
   "cell_type": "code",
   "execution_count": null,
   "id": "6d59772c-8276-49b3-a338-21e6efe93787",
   "metadata": {},
   "outputs": [],
   "source": []
  },
  {
   "cell_type": "code",
   "execution_count": null,
   "id": "5168079c-844a-4295-8498-c7e3e0b0fa08",
   "metadata": {},
   "outputs": [],
   "source": []
  }
 ],
 "metadata": {
  "kernelspec": {
   "display_name": "Python 3 (ipykernel)",
   "language": "python",
   "name": "python3"
  },
  "language_info": {
   "codemirror_mode": {
    "name": "ipython",
    "version": 3
   },
   "file_extension": ".py",
   "mimetype": "text/x-python",
   "name": "python",
   "nbconvert_exporter": "python",
   "pygments_lexer": "ipython3",
   "version": "3.11.7"
  }
 },
 "nbformat": 4,
 "nbformat_minor": 5
}
