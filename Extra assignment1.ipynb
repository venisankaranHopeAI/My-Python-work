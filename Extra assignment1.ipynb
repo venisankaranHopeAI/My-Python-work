{
 "cells": [
  {
   "cell_type": "code",
   "execution_count": null,
   "id": "70f61e2d-e50f-47d8-ab90-997c89a6b4e5",
   "metadata": {},
   "outputs": [],
   "source": [
    "#print statement"
   ]
  },
  {
   "cell_type": "code",
   "execution_count": 1,
   "id": "7577932c-7888-4bfe-b6ca-95e28ba00292",
   "metadata": {},
   "outputs": [
    {
     "name": "stdout",
     "output_type": "stream",
     "text": [
      "Hope AI\n"
     ]
    }
   ],
   "source": [
    "print(\"Hope AI\") "
   ]
  },
  {
   "cell_type": "code",
   "execution_count": null,
   "id": "c688b854-fb3b-4606-9391-c18ff540efdb",
   "metadata": {},
   "outputs": [],
   "source": [
    "#Buy input"
   ]
  },
  {
   "cell_type": "code",
   "execution_count": 2,
   "id": "ddcc6fc7-a5ac-4964-a24a-c7316690c799",
   "metadata": {},
   "outputs": [
    {
     "name": "stdin",
     "output_type": "stream",
     "text": [
      "Enter the institute name: Hope AI\n"
     ]
    },
    {
     "name": "stdout",
     "output_type": "stream",
     "text": [
      "Institute name: Hope AI\n"
     ]
    }
   ],
   "source": [
    "name=input(\"Enter the institute name:\")\n",
    "print(\"Institute name:\",name)"
   ]
  },
  {
   "cell_type": "code",
   "execution_count": null,
   "id": "016c1c2a-754a-41af-96fd-f7b2341a9c0c",
   "metadata": {},
   "outputs": [],
   "source": [
    "#Buy inputs"
   ]
  },
  {
   "cell_type": "code",
   "execution_count": 3,
   "id": "77f5eb14-b3a8-4a94-a00e-86ca6c6b3da5",
   "metadata": {},
   "outputs": [
    {
     "name": "stdin",
     "output_type": "stream",
     "text": [
      "Enter your name: krishnaveni\n",
      "Enter your age: 37\n",
      "Enter your school name: HSHB school\n",
      "Enter your degree: B.E.,cse\n"
     ]
    }
   ],
   "source": [
    "name=input(\"Enter your name:\")\n",
    "age=int(input(\"Enter your age:\"))\n",
    "school=input(\"Enter your school name:\")\n",
    "degree=input(\"Enter your degree:\")"
   ]
  },
  {
   "cell_type": "code",
   "execution_count": null,
   "id": "5922ac18-5190-4124-a5a0-fb7a8b3892c0",
   "metadata": {},
   "outputs": [],
   "source": [
    "#Addition"
   ]
  },
  {
   "cell_type": "code",
   "execution_count": 8,
   "id": "42ec89da-94f3-4b2b-ac74-68df7d4bb5d4",
   "metadata": {},
   "outputs": [
    {
     "name": "stdin",
     "output_type": "stream",
     "text": [
      "a= 3\n",
      "b= 4\n"
     ]
    },
    {
     "name": "stdout",
     "output_type": "stream",
     "text": [
      "Sum: 7\n"
     ]
    }
   ],
   "source": [
    "a=int(input(\"a=\"))\n",
    "b=int(input(\"b=\"))\n",
    "print(\"Sum:\",a+b)"
   ]
  },
  {
   "cell_type": "code",
   "execution_count": null,
   "id": "63e83cf6-392c-4baf-9ec3-236d7ea08329",
   "metadata": {},
   "outputs": [],
   "source": [
    "#Subtraction"
   ]
  },
  {
   "cell_type": "code",
   "execution_count": 11,
   "id": "40e358a2-66ed-4996-bfc5-da4de087ed51",
   "metadata": {},
   "outputs": [
    {
     "name": "stdin",
     "output_type": "stream",
     "text": [
      "a= 3\n",
      "b= 5\n"
     ]
    },
    {
     "name": "stdout",
     "output_type": "stream",
     "text": [
      "Sub: -2\n"
     ]
    }
   ],
   "source": [
    "a=int(input(\"a=\"))\n",
    "b=int(input(\"b=\"))\n",
    "print(\"Sub:\",a-b)"
   ]
  },
  {
   "cell_type": "code",
   "execution_count": null,
   "id": "44134015-65ef-4757-8258-98a33f85d57c",
   "metadata": {},
   "outputs": [],
   "source": [
    "#Multiplication"
   ]
  },
  {
   "cell_type": "code",
   "execution_count": 12,
   "id": "c3bf85bd-4f3f-4abb-a130-3a03ba73f2f2",
   "metadata": {},
   "outputs": [
    {
     "name": "stdin",
     "output_type": "stream",
     "text": [
      "a= 45\n",
      "b= 20\n"
     ]
    },
    {
     "name": "stdout",
     "output_type": "stream",
     "text": [
      "Multiplication: 900\n"
     ]
    }
   ],
   "source": [
    "a=int(input(\"a=\"))\n",
    "b=int(input(\"b=\"))\n",
    "print(\"Multiplication:\",a*b)"
   ]
  },
  {
   "cell_type": "code",
   "execution_count": null,
   "id": "771d2270-1cf2-4f97-94d8-1c58770d50f9",
   "metadata": {},
   "outputs": [],
   "source": [
    "#Division"
   ]
  },
  {
   "cell_type": "code",
   "execution_count": 16,
   "id": "ed9dbc63-7946-4330-9468-d5116bb03558",
   "metadata": {},
   "outputs": [
    {
     "name": "stdin",
     "output_type": "stream",
     "text": [
      "a= 45\n",
      "b= 2\n"
     ]
    },
    {
     "name": "stdout",
     "output_type": "stream",
     "text": [
      "Float Division: 22.5\n"
     ]
    }
   ],
   "source": [
    "a=int(input(\"a=\"))\n",
    "b=int(input(\"b=\"))\n",
    "print(\"Float Division:\",a/b)"
   ]
  },
  {
   "cell_type": "code",
   "execution_count": null,
   "id": "795a1af9-388a-48d6-bbbc-42dfe12fee2f",
   "metadata": {},
   "outputs": [],
   "source": [
    "#Floor division"
   ]
  },
  {
   "cell_type": "code",
   "execution_count": 17,
   "id": "ee2ba8a9-a96c-433a-a9d0-c788039cae3b",
   "metadata": {},
   "outputs": [
    {
     "name": "stdin",
     "output_type": "stream",
     "text": [
      "a= 45\n",
      "b= 2\n"
     ]
    },
    {
     "name": "stdout",
     "output_type": "stream",
     "text": [
      "Floor Division: 22\n"
     ]
    }
   ],
   "source": [
    "a=int(input(\"a=\"))\n",
    "b=int(input(\"b=\"))\n",
    "print(\"Floor Division:\",a//b)"
   ]
  },
  {
   "cell_type": "code",
   "execution_count": null,
   "id": "80e4e9ef-89df-4899-8fce-a21e4f3a5566",
   "metadata": {},
   "outputs": [],
   "source": [
    "#Modulo or remainder"
   ]
  },
  {
   "cell_type": "code",
   "execution_count": 18,
   "id": "d6d7373b-acbe-452d-80d5-3fdb9bd2fcfc",
   "metadata": {},
   "outputs": [
    {
     "name": "stdin",
     "output_type": "stream",
     "text": [
      "a= 35\n",
      "b= 3\n"
     ]
    },
    {
     "name": "stdout",
     "output_type": "stream",
     "text": [
      "Modulo or remainder: 2\n"
     ]
    }
   ],
   "source": [
    "a=int(input(\"a=\"))\n",
    "b=int(input(\"b=\"))\n",
    "print(\"Modulo or remainder:\",a%b)"
   ]
  },
  {
   "cell_type": "code",
   "execution_count": null,
   "id": "0d260f4b-b208-4b8b-9d42-d0f05156b9e2",
   "metadata": {},
   "outputs": [],
   "source": [
    "#Power"
   ]
  },
  {
   "cell_type": "code",
   "execution_count": 21,
   "id": "6a8299df-77a2-4659-b77d-4c025cf5dda3",
   "metadata": {},
   "outputs": [
    {
     "name": "stdin",
     "output_type": "stream",
     "text": [
      "a= 5\n",
      "b= 3\n"
     ]
    },
    {
     "name": "stdout",
     "output_type": "stream",
     "text": [
      "Power: 125\n"
     ]
    }
   ],
   "source": [
    "a=int(input(\"a=\"))\n",
    "b=int(input(\"b=\"))\n",
    "print(\"Power:\",pow(a,b))"
   ]
  },
  {
   "cell_type": "code",
   "execution_count": null,
   "id": "b4465beb-cb9c-4131-b1d1-3769dc6fd918",
   "metadata": {},
   "outputs": [],
   "source": []
  }
 ],
 "metadata": {
  "kernelspec": {
   "display_name": "Python 3 (ipykernel)",
   "language": "python",
   "name": "python3"
  },
  "language_info": {
   "codemirror_mode": {
    "name": "ipython",
    "version": 3
   },
   "file_extension": ".py",
   "mimetype": "text/x-python",
   "name": "python",
   "nbconvert_exporter": "python",
   "pygments_lexer": "ipython3",
   "version": "3.11.7"
  }
 },
 "nbformat": 4,
 "nbformat_minor": 5
}
