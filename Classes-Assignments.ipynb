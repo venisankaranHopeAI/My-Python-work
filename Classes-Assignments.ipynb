{
 "cells": [
  {
   "cell_type": "code",
   "execution_count": null,
   "id": "a9a778cc-fdf6-41ca-9266-216b504506b0",
   "metadata": {},
   "outputs": [],
   "source": [
    "#Create a class and define various functions under it"
   ]
  },
  {
   "cell_type": "code",
   "execution_count": 4,
   "id": "2b94752b-4dab-4e69-8066-88d98be20a69",
   "metadata": {},
   "outputs": [],
   "source": [
    "class multiplefunccheck():\n",
    "    def subfieldsinAI():\n",
    "        lists=[\"Sub-fields in AI are:\",\"Machine learning\",\"Neural netwroks\",\"Vision\",\"Robotics\",\"Speech processing\",\"Natural langauage processing\"]\n",
    "        for temp in lists:\n",
    "            print(temp)\n",
    "    def OddEven():\n",
    "        num=int(input(\"Enter the number:\"))\n",
    "        if(num%2==0):\n",
    "            print(num, \"is an Even number\")\n",
    "            message=\"Even number\"\n",
    "        else:\n",
    "            print(num, \"is an Odd number\")\n",
    "            message=\"Odd number\"\n",
    "        return message\n",
    "    def eligibility():\n",
    "        gender=input(\"Enter the gender:\")\n",
    "        age=int(input(\"Enter the age:\"))\n",
    "        if((gender==\"male\" and age>=21) or (gender==\"female\" and age>=18)):\n",
    "            print(\"The person is eligible for marriage\")\n",
    "            message=\"Eligible\"\n",
    "        else:\n",
    "            print(\"The person is not eligible for marriage\")\n",
    "            message=\"Not eligible\"\n",
    "        return message\n",
    "    def percentage():\n",
    "        sub1=int(input(\"Enter the mark for sub1:\"))\n",
    "        sub2=int(input(\"Enter the mark for sub2:\"))\n",
    "        sub3=int(input(\"Enter the mark for sub3:\"))\n",
    "        sub4=int(input(\"Enter the mark for sub4:\"))\n",
    "        sub5=int(input(\"Enter the mark for sub5:\"))\n",
    "        total=(sub1+sub2+sub3+sub4+sub5)\n",
    "        percent=(total/5)\n",
    "        print(\"The percentage:\",percent)\n",
    "        message=\"Percentage\"\n",
    "        return message\n",
    "    def triangle():\n",
    "        height1=int(input(\"Enter the height1:\"))\n",
    "        height2=int(input(\"Enter the height2:\"))\n",
    "        breadth=int(input(\"Enter the breadth:\"))\n",
    "        area=(height1*breadth)/2\n",
    "        print(\"The area is:\",area)\n",
    "        perimeter=height1+height2+breadth\n",
    "        print(\"The perimeter is:\",perimeter)\n",
    "        message=\"Area and Perimeter of a triangle\"\n",
    "        return message"
   ]
  },
  {
   "cell_type": "code",
   "execution_count": 5,
   "id": "6f0212a9-6ddd-459e-b2ee-c7890d2e6ed3",
   "metadata": {},
   "outputs": [
    {
     "name": "stdin",
     "output_type": "stream",
     "text": [
      "Enter the height1: 3\n",
      "Enter the height2: 4\n",
      "Enter the breadth: 5\n"
     ]
    },
    {
     "name": "stdout",
     "output_type": "stream",
     "text": [
      "The area is: 7.5\n",
      "The perimeter is: 12\n"
     ]
    },
    {
     "data": {
      "text/plain": [
       "'Area and Perimeter of a triangle'"
      ]
     },
     "execution_count": 5,
     "metadata": {},
     "output_type": "execute_result"
    }
   ],
   "source": [
    "multiplefunccheck.triangle()"
   ]
  },
  {
   "cell_type": "code",
   "execution_count": 6,
   "id": "7a75b45b-dfa9-4a91-9903-077fbe3d5beb",
   "metadata": {},
   "outputs": [
    {
     "name": "stdin",
     "output_type": "stream",
     "text": [
      "Enter the mark for sub1: 60\n",
      "Enter the mark for sub2: 57\n",
      "Enter the mark for sub3: 86\n",
      "Enter the mark for sub4: 93\n",
      "Enter the mark for sub5: 85\n"
     ]
    },
    {
     "name": "stdout",
     "output_type": "stream",
     "text": [
      "The percentage: 76.2\n"
     ]
    },
    {
     "data": {
      "text/plain": [
       "'Percentage'"
      ]
     },
     "execution_count": 6,
     "metadata": {},
     "output_type": "execute_result"
    }
   ],
   "source": [
    "multiplefunccheck.percentage()"
   ]
  },
  {
   "cell_type": "code",
   "execution_count": 7,
   "id": "47c4fe1c-f575-4c6b-b28d-98d7fa35595a",
   "metadata": {},
   "outputs": [
    {
     "name": "stdin",
     "output_type": "stream",
     "text": [
      "Enter the gender: female\n",
      "Enter the age: 17\n"
     ]
    },
    {
     "name": "stdout",
     "output_type": "stream",
     "text": [
      "The person is not eligible for marriage\n"
     ]
    },
    {
     "data": {
      "text/plain": [
       "'Not eligible'"
      ]
     },
     "execution_count": 7,
     "metadata": {},
     "output_type": "execute_result"
    }
   ],
   "source": [
    "multiplefunccheck.eligibility()"
   ]
  },
  {
   "cell_type": "code",
   "execution_count": 8,
   "id": "5794959a-0d5e-4a38-9269-856f29c9594c",
   "metadata": {},
   "outputs": [
    {
     "name": "stdin",
     "output_type": "stream",
     "text": [
      "Enter the number: 19845\n"
     ]
    },
    {
     "name": "stdout",
     "output_type": "stream",
     "text": [
      "19845 is an Odd number\n"
     ]
    },
    {
     "data": {
      "text/plain": [
       "'Odd number'"
      ]
     },
     "execution_count": 8,
     "metadata": {},
     "output_type": "execute_result"
    }
   ],
   "source": [
    "multiplefunccheck.OddEven()"
   ]
  },
  {
   "cell_type": "code",
   "execution_count": 9,
   "id": "8f9ddb18-e49f-43bb-907c-bd50274bc26d",
   "metadata": {},
   "outputs": [
    {
     "name": "stdout",
     "output_type": "stream",
     "text": [
      "Sub-fields in AI are:\n",
      "Machine learning\n",
      "Neural netwroks\n",
      "Vision\n",
      "Robotics\n",
      "Speech processing\n",
      "Natural langauage processing\n"
     ]
    }
   ],
   "source": [
    "multiplefunccheck.subfieldsinAI()"
   ]
  },
  {
   "cell_type": "code",
   "execution_count": null,
   "id": "e6d621ac-353f-4cef-8829-520d7cc1e2ca",
   "metadata": {},
   "outputs": [],
   "source": []
  }
 ],
 "metadata": {
  "kernelspec": {
   "display_name": "Python 3 (ipykernel)",
   "language": "python",
   "name": "python3"
  },
  "language_info": {
   "codemirror_mode": {
    "name": "ipython",
    "version": 3
   },
   "file_extension": ".py",
   "mimetype": "text/x-python",
   "name": "python",
   "nbconvert_exporter": "python",
   "pygments_lexer": "ipython3",
   "version": "3.11.7"
  }
 },
 "nbformat": 4,
 "nbformat_minor": 5
}
