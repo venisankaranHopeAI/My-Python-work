{
 "cells": [
  {
   "cell_type": "code",
   "execution_count": null,
   "id": "63451189-e9be-4a91-9700-eae0c62833f9",
   "metadata": {},
   "outputs": [],
   "source": [
    "#print statement"
   ]
  },
  {
   "cell_type": "code",
   "execution_count": 1,
   "id": "5a039577-dc6e-4968-a656-1148be74597d",
   "metadata": {},
   "outputs": [
    {
     "name": "stdout",
     "output_type": "stream",
     "text": [
      "Welcome to Assignment 1\n"
     ]
    }
   ],
   "source": [
    "print(\"Welcome to Assignment 1\")"
   ]
  },
  {
   "cell_type": "code",
   "execution_count": null,
   "id": "0e202951-c3b9-4fa2-9245-7aef2e0b837d",
   "metadata": {},
   "outputs": [],
   "source": [
    "#variable assignment"
   ]
  },
  {
   "cell_type": "code",
   "execution_count": 3,
   "id": "ccc6aab3-d8e4-4562-bcc5-b7dac58c0cac",
   "metadata": {},
   "outputs": [
    {
     "name": "stdin",
     "output_type": "stream",
     "text": [
      "Num1: 10\n",
      "Num2: 20\n"
     ]
    },
    {
     "name": "stdout",
     "output_type": "stream",
     "text": [
      "Sum: 30\n"
     ]
    }
   ],
   "source": [
    "num1=int(input(\"Num1:\"))\n",
    "num2=int(input(\"Num2:\"))\n",
    "print(\"Sum:\",num1+num2)"
   ]
  },
  {
   "cell_type": "code",
   "execution_count": 4,
   "id": "e5e7a607-747e-4636-bf66-3d88d801d5ff",
   "metadata": {},
   "outputs": [
    {
     "name": "stdin",
     "output_type": "stream",
     "text": [
      "Num1: 20\n",
      "Num2: 30\n"
     ]
    },
    {
     "name": "stdout",
     "output_type": "stream",
     "text": [
      "Sum: 50\n"
     ]
    }
   ],
   "source": [
    "num1=int(input(\"Num1:\"))\n",
    "num2=int(input(\"Num2:\"))\n",
    "sum=num1+num2\n",
    "print(\"Sum:\",sum)"
   ]
  },
  {
   "cell_type": "code",
   "execution_count": null,
   "id": "7f99a205-067b-442c-9c84-24972aa79d90",
   "metadata": {},
   "outputs": [],
   "source": [
    "#if/if-else/if-elif verification"
   ]
  },
  {
   "cell_type": "code",
   "execution_count": 11,
   "id": "56107192-205b-4215-9170-ad2516fb459c",
   "metadata": {},
   "outputs": [
    {
     "name": "stdin",
     "output_type": "stream",
     "text": [
      "Enter the number: 19\n"
     ]
    },
    {
     "name": "stdout",
     "output_type": "stream",
     "text": [
      "Major\n"
     ]
    }
   ],
   "source": [
    "number=int(input(\"Enter the number:\"))\n",
    "if(number>18):\n",
    "           print(\"Major\")"
   ]
  },
  {
   "cell_type": "code",
   "execution_count": 12,
   "id": "a67c783f-1114-4618-9e30-e64a6856636c",
   "metadata": {},
   "outputs": [
    {
     "name": "stdin",
     "output_type": "stream",
     "text": [
      "Enter the number: 12\n"
     ]
    },
    {
     "name": "stdout",
     "output_type": "stream",
     "text": [
      "Minor\n"
     ]
    }
   ],
   "source": [
    "number=int(input(\"Enter the number:\"))\n",
    "if(number>18):\n",
    "           print(\"Major\")\n",
    "else:\n",
    "    print(\"Minor\")"
   ]
  },
  {
   "cell_type": "code",
   "execution_count": 25,
   "id": "fe756f9f-d519-40a3-a246-707431adbba6",
   "metadata": {},
   "outputs": [
    {
     "name": "stdin",
     "output_type": "stream",
     "text": [
      "Enter the BMI: 23\n"
     ]
    },
    {
     "name": "stdout",
     "output_type": "stream",
     "text": [
      "Normal weight\n"
     ]
    }
   ],
   "source": [
    "bmi=int(input(\"Enter the BMI:\"))\n",
    "if (bmi<18):\n",
    "    print(\"Underweight\")\n",
    "elif(bmi<24):\n",
    "    print(\"Normal weight\")\n",
    "elif(bmi<30):\n",
    "    print(\"Overweight\")\n",
    "elif(bmi>=30):\n",
    "    print(\"Obese\")"
   ]
  },
  {
   "cell_type": "code",
   "execution_count": null,
   "id": "50d64de1-4b86-46b9-974e-c3461d5a446d",
   "metadata": {},
   "outputs": [],
   "source": [
    "#BMI verification using list"
   ]
  },
  {
   "cell_type": "code",
   "execution_count": 29,
   "id": "266207d9-c53b-4aeb-b472-f7a1f4631c7c",
   "metadata": {},
   "outputs": [
    {
     "name": "stdout",
     "output_type": "stream",
     "text": [
      "Overweight\n",
      "Obese\n",
      "Underweight\n",
      "Normal weight\n",
      "Underweight\n",
      "Obese\n",
      "Normal weight\n",
      "Overweight\n"
     ]
    }
   ],
   "source": [
    "lists=[25,32,15,18,17,30,23,24]\n",
    "for bmi in lists:\n",
    "    if (bmi<18):\n",
    "        print(\"Underweight\")\n",
    "    elif(bmi<24):\n",
    "        print(\"Normal weight\")\n",
    "    elif(bmi<30):\n",
    "        print(\"Overweight\")\n",
    "    elif(bmi>=30):\n",
    "        print(\"Obese\")"
   ]
  },
  {
   "cell_type": "code",
   "execution_count": null,
   "id": "57cbcef6-1ce5-4896-93ae-5e88b14bf455",
   "metadata": {},
   "outputs": [],
   "source": []
  }
 ],
 "metadata": {
  "kernelspec": {
   "display_name": "Python 3 (ipykernel)",
   "language": "python",
   "name": "python3"
  },
  "language_info": {
   "codemirror_mode": {
    "name": "ipython",
    "version": 3
   },
   "file_extension": ".py",
   "mimetype": "text/x-python",
   "name": "python",
   "nbconvert_exporter": "python",
   "pygments_lexer": "ipython3",
   "version": "3.11.7"
  }
 },
 "nbformat": 4,
 "nbformat_minor": 5
}
